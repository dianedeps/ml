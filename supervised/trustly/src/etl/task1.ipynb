{
 "cells": [
  {
   "cell_type": "code",
   "execution_count": 2,
   "metadata": {},
   "outputs": [],
   "source": [
    "import os\n",
    "\n",
    "from pyspark.sql import SparkSession\n",
    "from pyspark.sql import functions as F\n",
    "from pyspark.sql.types import StringType, IntegerType"
   ]
  },
  {
   "cell_type": "code",
   "execution_count": 3,
   "metadata": {},
   "outputs": [],
   "source": [
    "path_wd   = os.getcwd() \n",
    "path_root = path_wd.rsplit(\"\\\\\",2)[0]\n",
    "\n",
    "path_data = path_root + '\\\\data\\\\'\n",
    "\n",
    "fname = path_data + 'Task 1 - Data_Eng_Spark_Test_07072023.csv'\n",
    "fname_out = path_data + 'Task 1 - Data_Eng_Spark_Test_07072023_processed.csv'"
   ]
  },
  {
   "cell_type": "code",
   "execution_count": 4,
   "metadata": {},
   "outputs": [],
   "source": [
    "# Setting up Spark session\n",
    "spark = SparkSession.builder \\\n",
    "    .appName(\"ETLProcess\") \\\n",
    "    .getOrCreate()\n"
   ]
  },
  {
   "cell_type": "code",
   "execution_count": 5,
   "metadata": {},
   "outputs": [],
   "source": [
    "# Loading raw data\n",
    "raw_data = spark.read.csv(fname, header=True, inferSchema=True)"
   ]
  },
  {
   "cell_type": "markdown",
   "metadata": {},
   "source": [
    "Analyze"
   ]
  },
  {
   "cell_type": "code",
   "execution_count": 6,
   "metadata": {},
   "outputs": [
    {
     "name": "stdout",
     "output_type": "stream",
     "text": [
      "Percentiles for 'amount':\n",
      "0th Percentile: 0.62\n",
      "25th Percentile: 137.9\n",
      "50th Percentile: 1853.0\n",
      "75th Percentile: 10171.7\n",
      "100th Percentile: 140813.5\n"
     ]
    }
   ],
   "source": [
    "percentiles = [0, 25, 50, 75, 100]\n",
    "percentile_values = raw_data.approxQuantile(\"amount\", [float(p) / 100 for p in percentiles], 0.001)\n",
    "percentiles_dict = {f\"{p}th Percentile\": value for p, value in zip(percentiles, percentile_values)}\n",
    "\n",
    "print(\"Percentiles for 'amount':\")\n",
    "for percentile, value in percentiles_dict.items():\n",
    "    print(f\"{percentile}: {value}\")"
   ]
  },
  {
   "cell_type": "code",
   "execution_count": 7,
   "metadata": {},
   "outputs": [
    {
     "name": "stdout",
     "output_type": "stream",
     "text": [
      "Median Amount: 1853.0\n",
      "Mean Amount: 6461.863049024913\n"
     ]
    }
   ],
   "source": [
    "median_amount = raw_data.approxQuantile(\"amount\", [0.5], 0.001)[0]\n",
    "mean_amount = raw_data.agg(F.mean(\"amount\")).collect()[0][0]\n",
    "\n",
    "print(\"Median Amount:\", median_amount)\n",
    "print(\"Mean Amount:\", mean_amount)"
   ]
  },
  {
   "cell_type": "markdown",
   "metadata": {},
   "source": [
    "Features"
   ]
  },
  {
   "cell_type": "code",
   "execution_count": 8,
   "metadata": {},
   "outputs": [],
   "source": [
    "# Time-based\n",
    "\n",
    "# Extracting day of the week and month from transaction_ts\n",
    "raw_data = raw_data.withColumn(\"transaction_day_of_week\", F.dayofweek(\"transaction_ts\"))\n",
    "raw_data = raw_data.withColumn(\"transaction_month\", F.month(\"transaction_ts\"))\n",
    "\n",
    "# Calculating time elapsed since customer enrollment\n",
    "raw_data = raw_data.withColumn(\"time_elapsed_since_enroll\", F.datediff(\"transaction_ts\", \"customer_enroll_ts\"))"
   ]
  },
  {
   "cell_type": "code",
   "execution_count": 9,
   "metadata": {},
   "outputs": [],
   "source": [
    "# Binning transaction amounts\n",
    "bin_edges = [137, 1853, 10171, float(\"inf\")]  # Define bin edges\n",
    "bin_labels = [\"low\", \"medium\", \"high\"]  # Define bin labels\n",
    "raw_data = raw_data.withColumn(\"amount_bin\", \n",
    "    F.when(F.col(\"amount\") <= bin_edges[0], bin_labels[0])\n",
    "     .when((F.col(\"amount\") > bin_edges[0]) & (F.col(\"amount\") <= bin_edges[1]), bin_labels[1])\n",
    "     .otherwise(bin_labels[2]))"
   ]
  },
  {
   "cell_type": "code",
   "execution_count": 10,
   "metadata": {},
   "outputs": [],
   "source": [
    "# Calculating customer-level agg\n",
    "customer_aggregations = raw_data.groupBy(\"customer_enroll_ts\").agg(\n",
    "    F.count(\"transaction_id\").alias(\"transaction_count\"),\n",
    "    F.mean(\"amount\").alias(\"mean_amount_per_customer\"),\n",
    "    F.sum(\"amount\").alias(\"total_amount_per_customer\"),\n",
    ")\n",
    "raw_data = raw_data.join(customer_aggregations, on=\"customer_enroll_ts\", how=\"left\")"
   ]
  },
  {
   "cell_type": "code",
   "execution_count": 11,
   "metadata": {},
   "outputs": [],
   "source": [
    "# Draft threshold\n",
    "amount_outlier_threshold = 10171\n",
    "raw_data = raw_data.withColumn(\"amount_outlier\", F.when(F.col(\"amount\") > amount_outlier_threshold, 1).otherwise(0))"
   ]
  },
  {
   "cell_type": "code",
   "execution_count": 12,
   "metadata": {},
   "outputs": [
    {
     "name": "stdout",
     "output_type": "stream",
     "text": [
      "+-------------------+--------------+-------------------+--------+--------------------+--------------------+------+-----------------------+-----------------+-------------------------+----------+-----------------+------------------------+-------------------------+--------------+\n",
      "| customer_enroll_ts|transaction_id|     transaction_ts|  amount|           attr_name|          attr_value|target|transaction_day_of_week|transaction_month|time_elapsed_since_enroll|amount_bin|transaction_count|mean_amount_per_customer|total_amount_per_customer|amount_outlier|\n",
      "+-------------------+--------------+-------------------+--------+--------------------+--------------------+------+-----------------------+-----------------+-------------------------+----------+-----------------+------------------------+-------------------------+--------------+\n",
      "|2022-03-21 03:35:50|           171|2022-03-21 03:35:50|   35.74|     external.result|                   A|     0|                      2|                3|                        0|       low|                6|                   35.74|       214.44000000000003|             0|\n",
      "|2022-03-21 03:35:50|           171|2022-03-21 03:35:50|   35.74|external.rule[0]....|Device Type Watch...|     0|                      2|                3|                        0|       low|                6|                   35.74|       214.44000000000003|             0|\n",
      "|2022-03-21 03:35:50|           171|2022-03-21 03:35:50|   35.74|external.ruleset....|                   0|     0|                      2|                3|                        0|       low|                6|                   35.74|       214.44000000000003|             0|\n",
      "|2022-03-21 03:35:50|           171|2022-03-21 03:35:50|   35.74|external.ruleset....|                   1|     0|                      2|                3|                        0|       low|                6|                   35.74|       214.44000000000003|             0|\n",
      "|2022-03-21 03:35:50|           171|2022-03-21 03:35:50|   35.74|external.rule[0]....|                   0|     0|                      2|                3|                        0|       low|                6|                   35.74|       214.44000000000003|             0|\n",
      "|2022-03-21 03:35:50|           171|2022-03-21 03:35:50|   35.74|external.rule[0]....|  device_type_mobile|     0|                      2|                3|                        0|       low|                6|                   35.74|       214.44000000000003|             0|\n",
      "|2022-03-21 01:41:59|           153|2022-03-21 01:41:59|10503.02|external.ruleset....|                   2|     0|                      2|                3|                        0|      high|               10|      10503.020000000002|       105030.20000000003|             1|\n",
      "|2022-03-21 01:41:59|           153|2022-03-21 01:41:59|10503.02|external.rule[0]....|                   0|     0|                      2|                3|                        0|      high|               10|      10503.020000000002|       105030.20000000003|             1|\n",
      "|2022-03-21 01:41:59|           153|2022-03-21 01:41:59|10503.02|external.rule[1]....|                   0|     0|                      2|                3|                        0|      high|               10|      10503.020000000002|       105030.20000000003|             1|\n",
      "|2022-03-21 01:41:59|           153|2022-03-21 01:41:59|10503.02|external.rule[0]....|real_ip_region_bi...|     0|                      2|                3|                        0|      high|               10|      10503.020000000002|       105030.20000000003|             1|\n",
      "|2022-03-21 01:41:59|           153|2022-03-21 01:41:59|10503.02|            ml_score|          0.97528636|     0|                      2|                3|                        0|      high|               10|      10503.020000000002|       105030.20000000003|             1|\n",
      "|2022-03-21 01:41:59|           153|2022-03-21 01:41:59|10503.02|external.ruleset....|                   0|     0|                      2|                3|                        0|      high|               10|      10503.020000000002|       105030.20000000003|             1|\n",
      "|2022-03-21 01:41:59|           153|2022-03-21 01:41:59|10503.02|external.rule[1]....| device_not_provided|     0|                      2|                3|                        0|      high|               10|      10503.020000000002|       105030.20000000003|             1|\n",
      "|2022-03-21 01:41:59|           153|2022-03-21 01:41:59|10503.02|external.rule[1]....| Device Not Provided|     0|                      2|                3|                        0|      high|               10|      10503.020000000002|       105030.20000000003|             1|\n",
      "|2022-03-21 01:41:59|           153|2022-03-21 01:41:59|10503.02|     external.result|                   A|     0|                      2|                3|                        0|      high|               10|      10503.020000000002|       105030.20000000003|             1|\n",
      "|2022-03-21 01:41:59|           153|2022-03-21 01:41:59|10503.02|external.rule[0]....|Transaction Detai...|     0|                      2|                3|                        0|      high|               10|      10503.020000000002|       105030.20000000003|             1|\n",
      "|2022-03-20 15:54:34|            32|2022-03-20 15:54:34| 1773.45|external.ruleset....|                   1|     1|                      1|                3|                        0|    medium|                7|      1773.4500000000003|       12414.150000000001|             0|\n",
      "|2022-03-20 15:54:34|            32|2022-03-20 15:54:34| 1773.45|external.rule[0]....|Device Type Watch...|     1|                      1|                3|                        0|    medium|                7|      1773.4500000000003|       12414.150000000001|             0|\n",
      "|2022-03-20 15:54:34|            32|2022-03-20 15:54:34| 1773.45|     external.result|                   A|     1|                      1|                3|                        0|    medium|                7|      1773.4500000000003|       12414.150000000001|             0|\n",
      "|2022-03-20 15:54:34|            32|2022-03-20 15:54:34| 1773.45|external.rule[0]....|                   0|     1|                      1|                3|                        0|    medium|                7|      1773.4500000000003|       12414.150000000001|             0|\n",
      "+-------------------+--------------+-------------------+--------+--------------------+--------------------+------+-----------------------+-----------------+-------------------------+----------+-----------------+------------------------+-------------------------+--------------+\n",
      "only showing top 20 rows\n",
      "\n"
     ]
    }
   ],
   "source": [
    "raw_data.show()"
   ]
  },
  {
   "cell_type": "code",
   "execution_count": 12,
   "metadata": {},
   "outputs": [],
   "source": [
    "# Outputing file\n",
    "raw_data.write.csv(fname_out, header=True, mode=\"overwrite\")"
   ]
  }
 ],
 "metadata": {
  "kernelspec": {
   "display_name": "base",
   "language": "python",
   "name": "python3"
  },
  "language_info": {
   "codemirror_mode": {
    "name": "ipython",
    "version": 3
   },
   "file_extension": ".py",
   "mimetype": "text/x-python",
   "name": "python",
   "nbconvert_exporter": "python",
   "pygments_lexer": "ipython3",
   "version": "3.9.13"
  },
  "orig_nbformat": 4
 },
 "nbformat": 4,
 "nbformat_minor": 2
}
